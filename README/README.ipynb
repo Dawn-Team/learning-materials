{
 "cells": [
  {
   "cell_type": "markdown",
   "metadata": {},
   "source": [
    "# Learning Materials README v0.7.4 <a class=\"tocSkip\">\n",
    "    \n",
    "    \n",
    "    \n",
    "<!-- styles templates -->\n",
    "<style type=\"text/css\">\n",
    "    p.figure{text-align:center;margin:0 auto;font-size:x-small;font-weight:bold;}\n",
    "</style>\n",
    "\n",
    "<br />\n",
    "<br />\n",
    "<br />\n",
    "<br />\n",
    "<br />\n",
    "<br />\n",
    "![DAWN-TEAM](https://avatars0.githubusercontent.com/u/31675657?s=300&v=4)\n",
    "<p style=\"margin: 0.5em auto; text-align: center;font-size:large;font-weight: bold;\">KNOWLEDGES MAKE PRACTICES<!-- POSSIBLE  -->,</p> \n",
    "<p style=\"margin: 0 auto; text-align: center;font-size:large;font-weight: bold;\">PRACTICES MAKE KNOWLEDGES<!-- FORWARD  -->.</p>\n",
    "<br />\n",
    "<br />\n",
    "<br />\n",
    "<br />\n",
    "<br />\n",
    "<br />\n",
    "<br />\n",
    "<br />\n",
    "\n",
    "**Note:**   \n",
    "To ensure a completely render on $\\LaTeX$, please refresh the Latex Render by click the refresh button marked by red rectangle, it looks like:<img style=\"height:2em;\" src=\"images/Refresh LaTeX Render.png\"/>  \n",
    "\n",
    "If you can't find the button at the upper middle position of the panel, you may need to go [Chapter 3.4](#Extensions) and enable the extensions first. \n",
    "\n",
    "--------  \n"
   ]
  },
  {
   "cell_type": "markdown",
   "metadata": {
    "deletable": false,
    "editable": false,
    "run_control": {
     "frozen": true
    }
   },
   "source": [
    "# Introduction\n",
    "\n",
    "According to the entry Machine Learning\\cite{Machine-learning-wiki} on the Wikipedia website, Machine learning is a field of computer science that gives computers the ability to learn without being explicitly programmed.\n",
    "\n",
    "But how can we give computers the ability to learn without explicitly programing them? It looks like some fantasy magics.  \n",
    "\n",
    "The magic recognize faces better than humans do, the magic can paint masterpieces and play orchestras than painters and musicians do, the magic can drive cars better than drivers can, the magic can identify diseases better than experienced doctors can, the magic can even play roles that humans used do(😱).\n",
    "\n",
    "Well, it is just as magical as you can imagine, but it is much more fantastic than you can imagine to be such a wizard just like Harry Potter did.\n",
    "\n",
    "We will together cook the ingredients into delicious dinners and maybe we will together create a new recipe.\n",
    "\n",
    "The following figure will give you some intuition about what the field looks like when you are stepping into AI.\n",
    "\n",
    "![Figure 1](images/Fields Relationships.png)\n",
    "<p style=\"text-align:center;margin:0 auto;font-size:x-small;font-weight:bold;\">Figure 1. Relationships between Fields</p>\n",
    "    \n",
    "--------"
   ]
  },
  {
   "cell_type": "markdown",
   "metadata": {
    "deletable": false,
    "editable": false,
    "run_control": {
     "frozen": true
    }
   },
   "source": [
    "# A Brief Introduction to Jupyter Notebook\n",
    "Refer to the entry Jupyter Notebook\\cite{Jupyter_Notebook} on Wikipedia website, a Jupyter Notebook(Jupyter Notebook is also known as IPython) is:  \n",
    "A command shell for interactive computing in multiple programming languages, originally developed for the Python programming language, that offers introspection, rich media, shell syntax, tab completion, and history. IPython provides the following features:  \n",
    "- Interactive shells (terminal and Qt-based).\n",
    "- A browser-based notebook with support for code, text, mathematical expressions, inline plots and other media.\n",
    "- Support for interactive data visualization and use of GUI toolkits.\n",
    "- Flexible, embeddable interpreters to load into one's own projects.\n",
    "- Tools for parallel computing.\n",
    "\n",
    "You can find some useful information at their [official website](https://jupyter.org/) and we also recommend you to try to install one on your own machine following the instructions the official documents given.\n",
    "\n",
    "In order to help you get familiar with this platform, we have several tutorial references:\n",
    "- [IPython Notebook Tutorial(By Stanford)](http://cs231n.github.io/ipython-tutorial/)\n",
    "- Get involved in [Neural Networks and Deep Learning of Deeplearning.ai specialization](https://mooc.study.163.com/course/cloudclass-2001281002#/info) and switch to `Week2/ Quick Tour Of Jupyter Ipython Notebooks`(A registered account on their website is required).\n",
    "\n",
    "--------"
   ]
  },
  {
   "cell_type": "markdown",
   "metadata": {
    "run_control": {
     "marked": true
    },
    "solution2": "hidden",
    "solution2_first": true
   },
   "source": [
    "# Our Jupyter Platform Guidelines\n",
    "## Authentication\n",
    "Our platform is configured to authenticate users by Github OAuth ONLY. So the **only way** to access Jupyter platform is using your Github account, which has to be registered on the platform by the administrator(s).  \n",
    "To ensure your account security, when you sign in the platform for the first time, you will see something just like this:\n",
    "![OAuth](images/OAuth.png)\n",
    "Please **confirm** the information marked by red rectangles(**especially the `App Name`, `Privileges` and `the links/urls`**) are absolutely the same with the information below or it is a fake one and do **NOT** grant any privilege.    \n",
    "\n",
    "|Item    | Details    |\n",
    "|:----|:----|  \n",
    "|App Name    |Jupyter Notebook Support @Dawn-Team    |\n",
    "|The Privileges    |Public data only    |  \n",
    "|Redirect Url    |https://hub.dawn-team.online:8888    |  \n",
    "\n",
    "\n",
    "## Shell Guidelines in Jupyter Notebook\n",
    "For what a shell or a shell script really is, please click [Technology Overview of Shell](https://github.com/THUDataPI/TechnologyOverview/blob/master/%E4%B8%80%E6%96%87%E8%AF%BB%E6%87%82Shell/%E4%B8%80%E6%96%87%E8%AF%BB%E6%87%82-Shell-%E9%82%B1%E4%BE%9D%E5%BC%BA.md). Much of the useful information is given there. So in this case, having the `Jupyter Notebook` environment, we will talk about two things:  \n",
    "### The Terminal\n",
    "`Terminal(especially for CLI, Command Line Interface)` is a terminology describing the final software a computer user can touch. It is often available in Unix-like systems or by using `Win` + `R` on windows OS series. We will not discuss this in depth, all you need to know is: \n",
    "1. What is a terminal.\n",
    "2. How to use a terminal when you need to do so.\n",
    "The first one on the list is apparently given and you can get some intuitions about the second by following approaches below:  \n",
    "1. Open a terminal  \n",
    "2. Type this command in your terminal and then hit the `ENTER` button on your keyboard: `ls`(for Unix-like system)/`dir`(for Windows)  \n",
    "3. Observe the output in the terminal, and you can hit `↑` and `↓` to review the commands you've ran.\n",
    "4. You could use `command --help` to find usages, i.e.`ls --help` and the output should be like this:  \n",
    "    ```shell\n",
    "    Usage: ls [OPTION]... [FILE]...\n",
    "    List information about the FILEs (the current directory by default).\n",
    "    Sort entries alphabetically if none of -cftuvSUX nor --sort is specified.\n",
    "    -- more --\n",
    "    ```\n",
    "5. In a word, type a command followed by your arguments, hit `ENTER` and your cooking is done.\n",
    "\n",
    "Now we know how to run our shell commands, but how can we do it in Jupyter Notebook, is there a difference?  \n",
    "The answer is no, the approaches are absolutely the same except the first one.  \n",
    "In Jupyter Notebook, we open the terminal by:  \n",
    "1. Turn to a file view page,  \n",
    "2. Click `New` on the upper right of your panel,\n",
    "3. Choose `Terminal` in the list.  \n",
    "\n",
    "Here is the approaches described by a sketch:  \n",
    "![Open a ternimal in jupyter notebook](images/Open a ternimal in jupyter notebook.png)\n",
    "\n",
    "\n",
    "### Run Shell Scripts in A Running Notebook\n",
    "Instead of running shell scripts in the terminal, you can also choose to run them inside a cell in an open notebook. It seems much easier to run a shell script in the cell but we do *NOT* recommend you to do so in the case of running very complex scripts. \n",
    "You can see how you can do that to run a shell script inside a running notebook by clicking this button and pressing `SHIFT` + `ENTER`:  "
   ]
  },
  {
   "cell_type": "code",
   "execution_count": null,
   "metadata": {
    "ExecuteTime": {
     "end_time": "2017-12-18T13:18:03.025294Z",
     "start_time": "2017-12-18T13:18:02.902838Z"
    },
    "deletable": false,
    "editable": false,
    "solution2": "hidden"
   },
   "outputs": [],
   "source": [
    "# To run shell scripts in a cell, just add a '!' notation before you shell command.\n",
    "! ls -l"
   ]
  },
  {
   "cell_type": "markdown",
   "metadata": {
    "deletable": false,
    "editable": false,
    "run_control": {
     "frozen": true
    },
    "solution2": "hidden",
    "solution2_first": true
   },
   "source": [
    "## Files Organize Advises\n",
    "When you signed in the platform, you will see your home directory immediately. You can do file operations such as new, delete, move, rename and open files and if it is some kinds of dangerous operation the platform will notice you. You can create your own customized home directory tree as you want but you'd better follow our advises because of the automatic file spread mechanisms. We will use some automatic shell scripts to spread some important files to your home directory occasionally. To avoid overriding your private files, please do not create folder or file with filename in this list:\n",
    "- TutorialsFiles\n",
    "- DiscussionRecords\n",
    "\n",
    "And to keep your home clean and neat, we suggest use folders in the first level of your home and enrich files inside the folders. For example, user `A` might managed his home well and his home looks like:  \n",
    "```\n",
    ".\n",
    "├── Datasets\n",
    "├── DiscussionRecords\n",
    "├── Documents\n",
    "└── TutorialsFiles\n",
    "\n",
    "4 directories, 0 file\n",
    "```\n",
    "And another example, user `B` is not a guy good at manage things, his home looks like:\n",
    "```\n",
    ".\n",
    "├── Datasets\n",
    "├── DiscussionRecords 18-Dec-2017\n",
    "├── DiscussionRecords 19-Dec-2017\n",
    "├── Documents\n",
    "├── Documents 2\n",
    "├── Documents 3\n",
    "├── tree.txt\n",
    "├── hello world.c\n",
    "├── hello world.cout\n",
    "├── hello world.java\n",
    "├── hello world.class\n",
    "├── hello world.py\n",
    "├── password.txt\n",
    "├── rsa.key\n",
    "├── rsa.pub\n",
    "├── my bAcK Up Text File\n",
    "└── TutorialsFiles\n",
    "\n",
    "7 directories, 10 files\n",
    "```\n",
    "Meanwhile, your home directory looks like(Run the cell below and you can see):"
   ]
  },
  {
   "cell_type": "code",
   "execution_count": null,
   "metadata": {
    "ExecuteTime": {
     "end_time": "2017-12-23T08:23:19.894163Z",
     "start_time": "2017-12-23T08:23:19.729394Z"
    },
    "deletable": false,
    "editable": false,
    "solution2": "hidden"
   },
   "outputs": [],
   "source": [
    "! tree -L 1 ~"
   ]
  },
  {
   "cell_type": "markdown",
   "metadata": {
    "deletable": false,
    "editable": false,
    "run_control": {
     "frozen": true
    }
   },
   "source": [
    "## Extensions  \n",
    "There are many useful extensions for Jupyter notebook such as `Table of Contents`,`spellchecker` and `Code Prettify`. You can enable or disable extensions to satisfy your requirements through the `Nbextensions` tab on the top of any directory page just like this:  \n",
    "![Nbextensions](images/Nbextensions.png)\n",
    "\n",
    "***Note:*** \n",
    "1. Do NOT turn the compatibility check(shown at the first line) off **or your notebook may be broken!**\n",
    "2. Enable the options shown above.\n",
    "\n",
    "------"
   ]
  },
  {
   "cell_type": "markdown",
   "metadata": {
    "deletable": false,
    "editable": false,
    "run_control": {
     "frozen": true
    },
    "solution2": "shown",
    "solution2_first": true
   },
   "source": [
    "\n",
    "\n",
    "## Supported Kernels and Packages\n",
    "1. Kernels.  \n",
    "For now, we just support `Python3(Python 3.5.2)` kernel, the default kernel of Jupyter Notebook. We may install some other kernels if they are suggested many times and you can contact administrator(s) for suggesting one if you really need it.  \n",
    "You can create a notebook file(default file name: `Untitled.ipynb`) through the `New` button in the upper right of any directory page and you can see which kernel is running at the upper right place in a open notebook file. \n",
    "2. Packages.  \n",
    "To show the supported packages, just click `Show Solution` and use `Shift` + `Enter` to run the cell."
   ]
  },
  {
   "cell_type": "code",
   "execution_count": null,
   "metadata": {
    "ExecuteTime": {
     "end_time": "2017-12-18T12:27:52.663470Z",
     "start_time": "2017-12-18T12:27:52.538663Z"
    },
    "deletable": false,
    "editable": false,
    "solution2": "shown"
   },
   "outputs": [],
   "source": [
    "! pip3 list --format=columns"
   ]
  },
  {
   "cell_type": "markdown",
   "metadata": {},
   "source": [
    "## Most Used Commands\n",
    "| COMMAND    | DESCRIPTION    | EXAMPLE    |\n",
    "| :------------- | :------------- | :------------- |\n",
    "|`cd`    |**C**hange **D**irectory    |`cd directory`|   \n",
    "|`mkdir`    |**M**a**k**e **Dir**ectories    |`mkdir your_directory`|\n",
    "|`cp`    |**C**o**P**y dirs/files   |`cp original_file copied_file`| \n",
    "|`mv`    |**M**o**v**e dirs/files   |`mv original_file moved_file`|\n",
    "|`rm`    |**R**emo**v**e dirs/files    |`rm directory/file`|\n",
    "|`ls`    |**L**i**s**t directories    |`ls -l ~`    |  \n",
    "|`ll`    |Short for `ls -l`    |`ll`    |  \n",
    "|`clear`    |Clear the terminal    |`clear`    |  \n",
    "|`tar`    |Compression using tar    |`tar -zxvf file.tar.gz `(Undo Compression) \\underline{Or} `tar -zcvf compressed_name to_be_compress_directories_or_files`(Compression)|  \n",
    "|`zip`    |Compression using zip    |`zip compressed_name to_be_compress_directories_or_files`    |  \n",
    "|`unzip`    |Undo Compression for zip    |`unzip file.zip`    |  \n",
    "|`git init`    |**Git Init**ialization, initialize a Repository    |`git init`|\n",
    "|`git clone`    |**Git clone**, clone a repository   |`git clone git@github.com:Dawn-Team/learning-materials.git`    |  \n",
    "|`git add`    |Add files **to** your git stage **from** your working directory    |`git add my_file`    |    \n",
    "|`git commit`    |Commit a checkpoint **to** your git chain **from** your git stage   |`git commit -m \"Description\"`    |  \n",
    "|`git pull`    |Pull change(s) **from** remote repository    |`git pull`    |  \n",
    "|`git push`    |Push change(s) **to** remote repository   |`git push`    |  \n",
    "\n",
    "\n",
    "## Using github on the Platform\n",
    "Due to the technical reasons that project Jupyter not solved yet, we can not use VCS(Version Control System) as we usually do in some famous IDEs(Integrated Development Environments). But fortunately, there is a good solution we can largely adapt -- the original git bash.  \n",
    "\n",
    "You already knew how to use terminals on the platform, and all you need to do is using the git bash commands in your terminal. To help you finishing the job, here a tutorial is available: Git Tutorial\\cite{Git_Tutorial_by_Michael_Liao}  \n",
    "And if you want to use your Github account in our platform directly(assume that you have understandings to git in theory and some practice), you can follow steps [here](https://help.github.com/articles/connecting-to-github-with-ssh/) and configure your own environments quickly.\n",
    "\n",
    "## Using Mail Service\n",
    "\n",
    "Our mail service webmail is available at http://mailservice.arvinsichuan.com for now. And you can also configure it with your email client, if you do so, this information will be useful:\n",
    "\n",
    "|协议    |服务器地址    |服务器端口号（常规）    |服务器端口号（加密）    | \n",
    "| :------------- | :------------- | :------------- |:------------- |  \n",
    "| POP3    |pop3.mxhichina.com    |110    |995    |  \n",
    "| SMTP    | smtp.mxhichina.com    | 25    |465    |  \n",
    "| IMAP    | imap.mxhichina.com    | 143    | 993    |\n",
    "\n",
    "***Note***: we recommend you to use `SMTP` and `IMAP` instead of `POP3` and to use encrypted port(995,465,993) instead of none-encrypted(110,25,143)."
   ]
  },
  {
   "cell_type": "markdown",
   "metadata": {},
   "source": [
    "# Every Longest Journey Begins with the Very First Step.\n",
    "It is the third peak in the history of Machine Learning according to Deep Learning\\cite{Goodfellow-et-al-2016}. Many of those ideas invented over the last two historical waves are now easy to implement and can be applied to practices conveniently. Not a long story of Machine Learning but it is at the same time not short. In fact, \"Deep Learning\" dates back to 1940s. The arising of this popular technology is based on the inventors' hard working in the last century, the so much big data and so surprising fast computation abilities the modern computer have.  \n",
    "\n",
    "So what is the connection to us? We experienced the era of technology and we have resources that the 1940s haven't, which means that we can make progresses easier than the past can. Though, you may have a not so good impression on this area and know that there are lots of steps to accomplish. Please, don't worry about anything and just go and try, every longest journey begins with the very first steps.\n",
    "\n",
    "Here is a reference book:\n",
    "- Deep Learning \\cite{Goodfellow-et-al-2016}\n",
    "- 深度学习 \\cite{Goodfellow-et-al-2016-Zh_CN} (Related link: [Deeplearningbook on Github](https://github.com/exacity/deeplearningbook-chinese))"
   ]
  },
  {
   "cell_type": "markdown",
   "metadata": {},
   "source": [
    "## Mathematical Basics, Programming Basics and Terminologies. \n",
    "### Mathematical Basics\n",
    "Three sub areas of mathematics are required if you are prepare to go studying the Machine Learning. They are: \n",
    "\n",
    "#### Linear Algebra: \n",
    " \n",
    "|Key Words    |Translation    |  \n",
    "|:------|:------|  \n",
    "|Scalar    |标量    |  \n",
    "|Vector    |向量    |  \n",
    "|Matrix    |矩阵    |  \n",
    "|Tensor    |张量    |  \n",
    "|Identity Matrix    |单位矩阵    |  \n",
    "|Inverse Matrix    |逆矩阵    |  \n",
    "|Matrix Transpose    |矩阵转置    |  \n",
    "|Multiplying Matrices and Vectors    |矩阵和向量乘法    |\n",
    "\n",
    "#### Probabilities:  \n",
    "\n",
    "|Key Words    |Translation    |  \n",
    "|:------|:------|  \n",
    "|Random Variables    |随机变量    |  \n",
    "|Probability Distribution    |概率分布    |   \n",
    "|Conditional Independence    |条件独立    |   \n",
    "|Conditional Probability    |条件概率    |  \n",
    "|Expectation    |期望    |  \n",
    "|Variance    |方差    |  \n",
    "|Covariance    |协方差    |  \n",
    "|Bias Rule    |贝叶斯规则    | \n",
    "|Maximum Likelihood Estimation    |最大似然估计    |  \n",
    "\n",
    "\n",
    "#### Numerical Computation & Calculus: \n",
    "\n",
    "\n",
    "|Key Words    |Translation    |  \n",
    "|:------|:------|  \n",
    "|Objective Function    |  目标函数    |  \n",
    "|Loss Function    |  损失函数    |  \n",
    "|Cost Function    |  代价函数    |  \n",
    "|Derivatives    |  导数    |  \n",
    "|Gradient    |  梯度    |  \n",
    "|Partial Derivatives    |偏导数    |  \n",
    "|Gradient Descent    |梯度下降    |\n",
    "|Integral    |积分    |  \n",
    "\n",
    "### Programming   Basics\n",
    "\n",
    "#### Basics:\n",
    "\n",
    "|Key Words    |Explanation    |  \n",
    "|:------|:------|  \n",
    "|Loop    |A basic programming structure to let program execute code in a loop form. i.e. `for ...`, `while ...`    |  \n",
    "|Conditional Branch    |A basic programming structure to choose a branch of code to execute. i.e. `if ... then ...`,`swich ... case ...`    |  \n",
    "|OO    |Object Oriented    |  \n",
    "|OOP    |Object Oriented Programming    |  \n",
    "|class    |A OOP concept, represent an abstraction of a kind of things     |  \n",
    "\n",
    "#### Libraries:  \n",
    "##### Python  \n",
    "\n",
    "A widely used high-level programming language for general-purpose programming, created by Guido van Rossum and first released in 1991.\\cite{Python-wiki} [Official Site](https://www.python.org), an easy to learn tutorial is available here: Liao's Python tutorial\\cite{Python_Tutorial}.\n",
    "\n",
    "##### Numpy\\cite{Numpy-Official-Site}  \n",
    "\n",
    "NumPy is the fundamental package for scientific computing with Python. It contains among other things:\n",
    "- a powerful N-dimensional array object\n",
    "- sophisticated (broadcasting) functions\n",
    "- tools for integrating C/C++ and Fortran code\n",
    "- useful linear algebra, Fourier transform, and random number capabilities\n",
    "Besides its obvious scientific uses, NumPy can also be used as an efficient multi-dimensional container of generic data. Arbitrary data-types can be defined. This allows NumPy to seamlessly and speedily integrate with a wide variety of databases.\n",
    "\n",
    "NumPy is licensed under the BSD license, enabling reuse with few restrictions.\n",
    " \n",
    "An useful tutorial is available [here](http://cs231n.github.io/python-numpy-tutorial/)\n",
    "\n",
    "##### Tensorflow\\cite{tensorflow} \n",
    "\n",
    "TensorFlow™ is an open source software library for numerical computation using data flow graphs. Nodes in the graph represent mathematical operations, while the graph edges represent the multidimensional data arrays (tensors) communicated between them. The flexible architecture allows you to deploy computation to one or more CPUs or GPUs in a desktop, server, or mobile device with a single API. TensorFlow was originally developed by researchers and engineers working on the Google Brain Team within Google's Machine Intelligence research organization for the purposes of conducting machine learning and deep neural networks research, but the system is general enough to be applicable in a wide variety of other domains as well.\n",
    "\n",
    "\n",
    "##### Keras\\cite{keras}  \n",
    "\n",
    "Keras is a high-level neural networks API, written in Python and capable of running on top of TensorFlow, CNTK, or Theano. It was developed with a focus on enabling fast experimentation. Being able to go from idea to result with the least possible delay is key to doing good research.\n",
    "\n",
    "Use Keras if you need a deep learning library that:\n",
    "\n",
    "Allows for easy and fast prototyping (through user friendliness, modularity, and extensibility).\n",
    "Supports both convolutional networks and recurrent networks, as well as combinations of the two.\n",
    "Runs seamlessly on CPU and GPU.\n",
    "Read the documentation at Keras.io.\n",
    "\n",
    "Keras is compatible with: Python 2.7-3.6.\n",
    "\n",
    "### Frequently Used Terminologies  \n",
    "\n",
    "\n",
    "|Key Words    |Explanation   |Translation     |  \n",
    "|:------|:------|:------| \n",
    "|MLP    |Multiple Layer Perceptron    |多层感知机    |  \n",
    "|KNN    |K-Nearest Neighbor    |K近邻（算法）    |\n",
    "|PCA    |Principle Components Analysis    |主成分分析    |\n",
    "|SVM    |Supported Vector Machine    |支持向量机    |  \n",
    "|NN    |Neural Networks    |神经网络    |  \n",
    "|CNN    |Convolutional Neural Networks    |卷积神经网络    |  \n",
    "|RNN    |Recurrent Neural Networks    |循环神经网络    |\n",
    "|LSTM    |Long Short-term Memory    |长短期记忆    |  \n",
    "|NLP    |Natural Language Process    |自然语言处理    |  \n"
   ]
  },
  {
   "cell_type": "markdown",
   "metadata": {
    "deletable": false,
    "editable": false,
    "run_control": {
     "frozen": true
    }
   },
   "source": [
    "## Get Started with Machine Learning.\n",
    "### Learning Materials\n",
    "|Name    |Area    |Main Author/Lecture    |Prerequisite    |Available Resources|  \n",
    "|:------|:------|:------|:------|:------|    \n",
    "|Deep Learning Specialization    |Deep Learning    |Andrew NG    |Basic Math, English and Programming Skills    |1. [Coursera](https://www.coursera.org/specializations/deep-learning)(Extra fees for certifications, scholarship available)<br /> 2. [网易云](http://mooc.study.163.com/smartSpec/detail/1001319001.htm)(Video Resources Only)   |\n",
    "|Machine Learning Specialization    |Machine Learning    |Emily Fox, Carlos Guestrin    |English Communication Skills    |[Coursera](https://www.coursera.org/specializations/machine-learning)(Extra fees for certifications, scholarship available)    |  \n",
    "|Machine Learning    |Machine Learning    |Andrew NG    |Basic Math, English and Programming Skills   |[Coursera](https://www.coursera.org/learn/machine-learning)(Extra fees for certifications, scholarship available)    | \n",
    "|Stanford cs231n    |Computer Vision/Deep Learning    |Feifei Lee    |Basic Math, English and Programming Skills  |1. [Bilibili](http://www.bilibili.com/video/av13260183/index_1.html)(English subtitles Only)<br />2. [Mooc.ai](http://www.mooc.ai/course/268)(Chinese Subtitle Available)    |  \n",
    "|Neural Networks for Machine Learning    |Machine Learning    |Jeff Hinton    |Comfortable with calculus and with experience programming (Python)    |[Coursera](https://www.coursera.org/learn/neural-networks)    |  \n",
    "\n",
    "**Note**: If you find that you can not access the resources in coursera platform, you can try to solve this problem by add a host route:  \n",
    "```shell\n",
    "\n",
    "# d3c33hcgiwev3.cloudfront.net\n",
    "\n",
    "52.84.246.72 d3c33hcgiwev3.cloudfront.net\n",
    "```\n",
    "\n",
    "### Suggestions\n",
    "The Learning Materials we listed above are all structured courses taught by the experienced lectures/professors and validated by students all around the world. So that when you get yourself involved in any of them, we suggest you prepare notebooks and pencils well, finish the quiz carefully and enjoy your programming assignments, just like what you are doing in you real classrooms.  \n",
    "\n",
    "You can get started with Deep Learning Specialization and you will step into Machine Learning area quickly. Though, the Machine Learning courses focus more on basics and the contents are wilder covered than Deep Learning do, you might want to try those courses for your further development. When you are ready to take cs231n, you should have some experiences about this area and it will help you go deeper. And, you may have a question about what should I do if I finished all of those materials?  \n",
    "\n",
    "Well, You may go getting started with researches if you decided to be one of those excellent researchers. I mean, you really got all of the ideas delivered by those materials, not saying that I finished the videos and the assignments but really can **DO SOMETHING**."
   ]
  },
  {
   "cell_type": "markdown",
   "metadata": {},
   "source": [
    "<!-- \n",
    "## Neural Networks Basics. \n",
    "        3. Neural Networks Basics.    Neurons, Layers, Computation Graphs, Gradient Descent Methods and etc.\n",
    "-->"
   ]
  },
  {
   "cell_type": "markdown",
   "metadata": {},
   "source": [
    "<!-- \n",
    "## Structuring Machine Learning Programs/Projects.\n",
    "        4. Structuring Machine Learning Programs/Projects    Hyper-Parameters,Dataset Augmentation, Optimization, Hyper-Parameters tuning Methodology, Transfer Learning, Pre-training and etc.\n",
    "-->\n"
   ]
  },
  {
   "cell_type": "markdown",
   "metadata": {},
   "source": [
    "<!--\n",
    "## Deep Learning/Computer Vision.\n",
    "        5. Deep Learning.\n",
    "-->\n"
   ]
  },
  {
   "cell_type": "markdown",
   "metadata": {},
   "source": [
    "<!-- \n",
    "## Step Into Production Practices.\n",
    "        6. Get Into Production Practices.\n",
    "-->"
   ]
  },
  {
   "cell_type": "markdown",
   "metadata": {},
   "source": [
    "## Get Started with Researches.\n",
    "\n",
    "We all in the team now have few experiences about doing researches but we believe that sooner we will have many. So as much as we can give, we have several ideas to do this thing:  \n",
    "1. Focus on the area, in the channels as many as it can be. \n",
    "2. Be familiar with research tools such as: [Google Scholar](https://scholar.google.com), [Baidu Scholar](https://schalor.baidu.com) and your library resources.\n",
    "3. Read papers and trying them. You could find thousands of papers talking about their ideas in the machine learning field, but you may start with those very famous and classical ones. Such as :\n",
    "    - A Neural Algorithm of Artistic Style\n",
    "    - DeepFace：Closing the Gap to Human-Level Performance in Face Verification\n",
    "    - Deep Visual-Semantic Alignments for Generating Image Descriptions\n",
    "    - FaceNet：A Unified Embedding for Face Recognition and Clustering\n",
    "    - Faster R-CNN：Towards Real-Time Object\n",
    "    - Fast R-CNN\n",
    "    - Going deeper with convolutioins\n",
    "    - Gradient-based learning applied to document recognition\n",
    "    - He et. al. Deep Resudual Learning for Image Recognition\n",
    "    - ImageNet Classification with Deep Convolutional Neural Networks\n",
    "    - Improving neural networks by preventing co-adaption of feature detectors\n",
    "    - Learning to Segment Every Thing\n",
    "    - Mask R-CNN\n",
    "    - Networks in networks\n",
    "    - Overfeat： Integrated Recognition, Localization and Detection Using Convolutional network\n",
    "    - Rich feature hierarchies for accurate object detection and semantic segmentation\n",
    "    - Very deep convolutional networks for large-scale image recognition\n",
    "    - Visualizing and Understanding Convolutional Networks\n",
    "    - You Only Look Once：Unified, Real-Time Object Detection   \n",
    "    ...\n",
    "4. Make your ideas into practices."
   ]
  },
  {
   "cell_type": "markdown",
   "metadata": {
    "ExecuteTime": {
     "end_time": "2017-12-12T05:46:41.202332Z",
     "start_time": "2017-12-12T05:46:41.194460Z"
    }
   },
   "source": [
    "# Acknowledgments & Copyrights\n",
    "<br />\n",
    "<br />\n",
    "<a rel=\"license\" style=\"text-decoration:none\" href=\"http://creativecommons.org/licenses/by-nc-sa/4.0/\">\n",
    "    <div style=\"margin-top:0.5em;margin-bottom:1em;\">\n",
    "        <img alt=\"Creative Comments\" style=\"display:inline;\"  src=\"https://mirrors.creativecommons.org/presskit/icons/cc.svg\"/>\n",
    "        <img alt=\"Attribution\" style=\"display:inline;margin-top:0;\"  src=\"https://mirrors.creativecommons.org/presskit/icons/by.svg\"/>\n",
    "        <img alt=\"Non-Commercial\" style=\"display:inline;margin-top:0;\"  src=\"https://mirrors.creativecommons.org/presskit/icons/nc.svg\"/>\n",
    "        <img alt=\"Non-Commercial\" style=\"display:inline;margin-top:0;\"  src=\"https://mirrors.creativecommons.org/presskit/icons/nc-jp.svg\"/>\n",
    "        <img alt=\"Share Alike\" style=\"display:inline;margin-top:0;\"  src=\"https://mirrors.creativecommons.org/presskit/icons/sa.svg\"/>\n",
    "     </div>\n",
    "</a>\n",
    "<br />\n",
    "This work is licensed under a <a rel=\"license\" href=\"http://creativecommons.org/licenses/by-nc-sa/4.0/\">Creative Commons Attribution-NonCommercial-ShareAlike 4.0 International License</a>.\n",
    "\n",
    "CREATED BY [ArvinSiChuan](mailto:arvinsc@foxmail.com?subject=LearningMaterialsOfDawnTeam), 09-DEC-2017.  \n",
    "Updated at 1st-Jan-2018, VERSION 0.7.4.  \n",
    "[DAWN-TEAM](https://github.com/Dawn-Team/) © 2017\n",
    "\n",
    "\n"
   ]
  },
  {
   "cell_type": "markdown",
   "metadata": {},
   "source": [
    "# References\n",
    "\n",
    "[<a id=\"cit-Machine-learning-wiki\" href=\"#call-Machine-learning-wiki\">1</a>] Wikipedia Community, ``_Machine Learning_'',  2017.  [online](https://en.wikipedia.org/wiki/Machine_learning)\n",
    "\n",
    "[<a id=\"cit-Jupyter_Notebook\" href=\"#call-Jupyter_Notebook\">2</a>] Wikipedia Community, ``_Jupyter Notebook(IPython) wiki_'',  2017.  [online](https://en.wikipedia.org/wiki/IPython)\n",
    "\n",
    "[<a id=\"cit-Git_Tutorial_by_Michael_Liao\" href=\"#call-Git_Tutorial_by_Michael_Liao\">3</a>] Michael Liao, ``_Git Tutorial by Michael Liao_'',  2013.  [online](https://www.liaoxuefeng.com/wiki/0013739516305929606dd18361248578c67b8067c8c017b000)\n",
    "\n",
    "[<a id=\"cit-Goodfellow-et-al-2016\" href=\"#call-Goodfellow-et-al-2016\">4</a>] Ian Goodfellow, Yoshua Bengio and Aaron Courville, ``_Deep Learning_'',  2016.\n",
    "\n",
    "[<a id=\"cit-Goodfellow-et-al-2016-Zh_CN\" href=\"#call-Goodfellow-et-al-2016-Zh_CN\">5</a>] Ian Goodfellow, Yoshua Bengio and Aaron Courville, ``_深度学习（中文版）_'',  2016.\n",
    "\n",
    "[<a id=\"cit-Python-wiki\" href=\"#call-Python-wiki\">6</a>] Wikipedia Community, ``_Python(programming language)_'',  2017.  [online](https://en.wikipedia.org/wiki/Python_programming_language)\n",
    "\n",
    "[<a id=\"cit-Python_Tutorial\" href=\"#call-Python_Tutorial\">7</a>] Michael Liao, ``_Python教程_'',  2011.  [online](https://www.liaoxuefeng.com/wiki/0014316089557264a6b348958f449949df42a6d3a2e542c000)\n",
    "\n",
    "[<a id=\"cit-Numpy-Official-Site\" href=\"#call-Numpy-Official-Site\">8</a>] Numpy Group, ``_Numpy Official Site_'',  2017.  [online](http://www.numpy.org/)\n",
    "\n",
    "[<a id=\"cit-tensorflow\" href=\"#call-tensorflow\">9</a>] Tensorflow group, ``_Tensorflow Documentation_'',  2017.  [online](https://tensorflow.google.cn/)\n",
    "\n",
    "[<a id=\"cit-keras\" href=\"#call-keras\">10</a>] Keras group, ``_Keras Documentation_'',  2017.  [online](https://keras.io)\n",
    "\n"
   ]
  },
  {
   "cell_type": "code",
   "execution_count": null,
   "metadata": {
    "deletable": false,
    "editable": false
   },
   "outputs": [],
   "source": [
    "print (\"THE END OF THE DOCUMENT\")"
   ]
  }
 ],
 "metadata": {
  "author": "Hello World",
  "kernelspec": {
   "display_name": "Python 3",
   "language": "python",
   "name": "python3"
  },
  "language_info": {
   "codemirror_mode": {
    "name": "ipython",
    "version": 3
   },
   "file_extension": ".py",
   "mimetype": "text/x-python",
   "name": "python",
   "nbconvert_exporter": "python",
   "pygments_lexer": "ipython3",
   "version": "3.5.2"
  },
  "latex_envs": {
   "LaTeX_envs_menu_present": true,
   "autocomplete": true,
   "bibliofile": "cite.bib",
   "cite_by": "number",
   "current_citInitial": 1,
   "eqLabelWithNumbers": true,
   "eqNumInitial": 1,
   "hotkeys": {
    "equation": "Ctrl-E",
    "itemize": "Ctrl-I"
   },
   "labels_anchors": true,
   "latex_user_defs": false,
   "report_style_numbering": false,
   "user_envs_cfg": false
  },
  "toc": {
   "nav_menu": {
    "height": "255px",
    "width": "520px"
   },
   "number_sections": true,
   "sideBar": true,
   "skip_h1_title": false,
   "toc_cell": false,
   "toc_position": {
    "height": "696px",
    "left": "0px",
    "right": "984.961px",
    "top": "111px",
    "width": "269px"
   },
   "toc_section_display": "block",
   "toc_window_display": true
  }
 },
 "nbformat": 4,
 "nbformat_minor": 2
}
