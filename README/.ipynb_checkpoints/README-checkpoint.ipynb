{
 "cells": [
  {
   "cell_type": "markdown",
   "metadata": {},
   "source": [
    "# Learning Materials README v0.4 <a class=\"tocSkip\">\n",
    "    \n",
    "    \n",
    "    \n",
    "<!-- styles templates -->\n",
    "<style type=\"text/css\">\n",
    "    p.figure{text-align:center;margin:0 auto;font-size:x-small;font-weight:bold;}\n",
    "</style>\n",
    "\n",
    "<br />\n",
    "<br />\n",
    "<br />\n",
    "<br />\n",
    "<br />\n",
    "<br />\n",
    "![DAWN-TEAM](https://avatars0.githubusercontent.com/u/31675657?s=300&v=4)\n",
    "<p style=\"margin: 0.5em auto; text-align: center;font-size:large;font-weight: bold;\">KNOWLEDGES MAKE PRACTICES<!-- POSSIBLE  -->,</p> \n",
    "<p style=\"margin: 0 auto; text-align: center;font-size:large;font-weight: bold;\">PRACTICES MAKE KNOWLEDGES<!-- FORWARD  -->.</p>\n",
    "<br />\n",
    "<br />\n",
    "<br />\n",
    "<br />\n",
    "<br />\n",
    "<br />\n",
    "<br />\n",
    "<br />\n",
    "\n",
    "**Note:**   \n",
    "To ensure a completely render on $\\LaTeX$, please refresh the Latex Render by click the refresh button marked by red rectangle:<img style=\"height:2em;\" src=\"images/Refresh LaTeX Render.png\"/>  \n",
    "\n",
    "If you can't find the button at the upper middle position of the panel, you may need to go [Chapter 3.4](#Extensions) and enable the extensions first. \n",
    "\n",
    "--------  \n"
   ]
  },
  {
   "cell_type": "markdown",
   "metadata": {},
   "source": [
    "# Introduction\n",
    "\n",
    "According to entry Machine Learning\\cite{Machine-learning-wiki} on the Wikipedia website, Machine learning is a field of computer science that gives computers the ability to learn without being explicitly programmed.\n",
    "\n",
    "But how can we give computers the ability to learn without explicitly programing them? It looks like some fantasy magics.  \n",
    "\n",
    "The magic recognize faces better than humans do, the magic can paint masterpieces and play orchestras than painters and musicians do, the magic can drive cars better than drivers can, the magic can identify diseases better than experienced doctors can, the magic can even play roles that humans used do(😱).\n",
    "\n",
    "Well, it is just as magical as you can imagine, but it is much more fantastic than you can imagine to be such a wizard just like Harry Potter did.\n",
    "\n",
    "We will together cook the ingredients into delicious dinners and maybe we will together create a new recipe.\n",
    "\n",
    "The following figure will give you some intuition about what the field looks like when you are stepping into AI.\n",
    "\n",
    "![Figure 1](images/Fields Relationships.png)\n",
    "<p style=\"text-align:center;margin:0 auto;font-size:x-small;font-weight:bold;\">Figure 1. Relationships between Fields</p>\n",
    "    \n",
    "--------"
   ]
  },
  {
   "cell_type": "markdown",
   "metadata": {},
   "source": [
    "# A Brief Introduction to Jupyter Notebook\n",
    "Refer to the entry Jupyter Notebook\\cite{Jupyter_Notebook} on Wikipedia website, a Jupyter Notebook(Jupyter Notebook is also known as IPython) is:  \n",
    "A command shell for interactive computing in multiple programming languages, originally developed for the Python programming language, that offers introspection, rich media, shell syntax, tab completion, and history. IPython provides the following features:  \n",
    "- Interactive shells (terminal and Qt-based).\n",
    "- A browser-based notebook with support for code, text, mathematical expressions, inline plots and other media.\n",
    "- Support for interactive data visualization and use of GUI toolkits.\n",
    "- Flexible, embeddable interpreters to load into one's own projects.\n",
    "- Tools for parallel computing.\n",
    "\n",
    "You can find some useful information at their [official website](https://jupyter.org/) and we also recommend you to try to install one on your own machine following the instructions the official documents given.\n",
    "\n",
    "In order to help you get familiar with this platform, we have several tutorial references:\n",
    "- [IPython Notebook Tutorial(By Stanford)](http://cs231n.github.io/ipython-tutorial/)\n",
    "- Get involved in [Neural Networks and Deep Learning of Deeplearning.ai specialization](https://mooc.study.163.com/course/cloudclass-2001281002#/info) and switch to `Week2/ Quick Tour Of Jupyter Ipython Notebooks`(A registered account on their website is required).\n",
    "\n",
    "--------"
   ]
  },
  {
   "cell_type": "markdown",
   "metadata": {
    "run_control": {
     "marked": true
    },
    "solution2": "hidden",
    "solution2_first": true
   },
   "source": [
    "# Our Jupyter Platform Guidelines\n",
    "## Authentication\n",
    "Our platform is configured to authenticate users by Github OAuth ONLY. So the **only way** to access Jupyter platform is using your Github account, which has to be registered on the platform by the administrator(s).  \n",
    "To ensure your account security, when you sign in the platform for the first time, you will see something just like this:\n",
    "![OAuth](images/OAuth.png)\n",
    "Please **confirm** the information marked by red rectangles(**especially the `App Name`, `Privileges` and `the links/urls`**) are absolutely the same or it is a fake one and do **NOT** grant any privilege.\n",
    "\n",
    "\n",
    "## Shell Guidelines in Jupyter Notebook\n",
    "For what a shell or a shell script really is, please click [Technology Overview of Shell](https://github.com/THUDataPI/TechnologyOverview/blob/master/%E4%B8%80%E6%96%87%E8%AF%BB%E6%87%82Shell/%E4%B8%80%E6%96%87%E8%AF%BB%E6%87%82-Shell-%E9%82%B1%E4%BE%9D%E5%BC%BA.md). Much of the useful information is given there. So in this case, having the `Jupyter Notebook` environment, we will talk about two things:  \n",
    "### The Terminal\n",
    "`Terminal(especially for CLI, Command Line Interface)` is a terminology describing the final software a computer user can touch. It is often available in Unix-like systems or by using `Win` + `R` on windows OS series. We will not discuss this in depth, all you need to know is: \n",
    "1. What is a terminal.\n",
    "2. How to use a terminal when you need to do so.\n",
    "The first one on the list is apparently given and you can get some intuitions about the second by following approaches below:  \n",
    "1. Open a terminal  \n",
    "2. Type this command in your terminal and then hit the `ENTER` button on your keyboard: `ls`(for Unix-like system)/`dir`(for Windows)  \n",
    "3. Observe the output in the terminal, and you can hit `↑` and `↓` to review the commands you've ran.\n",
    "4. You could use `command --help` to find usages, i.e.`ls --help` and the output should be like this:  \n",
    "    ```shell\n",
    "    Usage: ls [OPTION]... [FILE]...\n",
    "    List information about the FILEs (the current directory by default).\n",
    "    Sort entries alphabetically if none of -cftuvSUX nor --sort is specified.\n",
    "    -- more --\n",
    "    ```\n",
    "5. In a word, type a command followed by your arguments, hit `ENTER` and your cooking is done.\n",
    "\n",
    "Now we know how to run our shell commands, but how can we do it in Jupyter Notebook, is there a difference?  \n",
    "The answer is no, the approaches are absolutely the same except the first one.  \n",
    "In Jupyter Notebook, we open the terminal by:  \n",
    "1. Turn to a file view page,  \n",
    "2. Click `New` on the upper right of your panel,\n",
    "3. Choose `Terminal` in the list.  \n",
    "\n",
    "Here is the approaches described by a sketch:  \n",
    "![Open a ternimal in jupyter notebook](images/Open a ternimal in jupyter notebook.png)\n",
    "\n",
    "\n",
    "### Run Shell Scripts in A Running Notebook\n",
    "Instead of running shell scripts in the terminal, you can also choose to run them inside a cell in an open notebook. It seems much easier to run a shell script in the cell but we do *NOT* recommend you to do so in the case of running very complex scripts. \n",
    "You can see how you can do that to run a shell script inside a running notebook by clicking this button and pressing `SHIFT` + `ENTER`:  "
   ]
  },
  {
   "cell_type": "code",
   "execution_count": null,
   "metadata": {
    "ExecuteTime": {
     "end_time": "2017-12-18T13:18:03.025294Z",
     "start_time": "2017-12-18T13:18:02.902838Z"
    },
    "deletable": false,
    "editable": false,
    "solution2": "hidden"
   },
   "outputs": [],
   "source": [
    "# To run shell scripts in a cell, just add a '!' notation before you shell command.\n",
    "! ls -l"
   ]
  },
  {
   "cell_type": "markdown",
   "metadata": {
    "solution2": "hidden",
    "solution2_first": true
   },
   "source": [
    "## Files Organize Advises\n",
    "When you signed in the platform, you will see your home directory immediately. You can do file operations such as new, delete, move, rename and open files and if it is some kinds of dangerous operation the platform will notice you. You can create your own customized home directory tree as you want but you'd better follow our advises because of the automatic file spread mechanisms. We will use some automatic shell scripts to spread some important files to your home directory occasionally. To avoid overriding your private files, please do not create folder or file with filename in this list:\n",
    "- TutorialsFiles\n",
    "- DiscussionRecords\n",
    "\n",
    "And to keep your home clean and neat, we suggest use folders in the first level of your home and enrich files inside the folders. For example, user `A` might managed his home well and his home looks like:  \n",
    "```\n",
    ".\n",
    "├── Datasets\n",
    "├── DiscussionRecords\n",
    "├── Documents\n",
    "└── TutorialsFiles\n",
    "\n",
    "4 directories, 0 file\n",
    "```\n",
    "And another example, user `B` is not a guy good at manage things, his home looks like:\n",
    "```\n",
    ".\n",
    "├── Datasets\n",
    "├── DiscussionRecords 18-Dec-2017\n",
    "├── DiscussionRecords 19-Dec-2017\n",
    "├── Documents\n",
    "├── Documents 2\n",
    "├── Documents 3\n",
    "├── tree.txt\n",
    "├── hello world.c\n",
    "├── hello world.cout\n",
    "├── hello world.java\n",
    "├── hello world.class\n",
    "├── hello world.py\n",
    "├── password.txt\n",
    "├── rsa.key\n",
    "├── rsa.pub\n",
    "├── my bAcK Up Text File\n",
    "└── TutorialsFiles\n",
    "\n",
    "7 directories, 10 files\n",
    "```\n",
    "Meanwhile, your home directory looks like(Run the cell below and you can see):"
   ]
  },
  {
   "cell_type": "code",
   "execution_count": null,
   "metadata": {
    "ExecuteTime": {
     "end_time": "2017-12-18T13:14:02.654213Z",
     "start_time": "2017-12-18T13:14:02.529727Z"
    },
    "deletable": false,
    "editable": false,
    "solution2": "hidden"
   },
   "outputs": [],
   "source": [
    "! tree -L 1 ~"
   ]
  },
  {
   "cell_type": "markdown",
   "metadata": {
    "deletable": false,
    "editable": false,
    "run_control": {
     "frozen": true
    }
   },
   "source": [
    "## Extensions  \n",
    "There are many useful extensions for Jupyter notebook such as `Table of Contents`,`spellchecker` and `Code Prettify`. You can enable or disable extensions to satisfy your requirements through the `Nbextensions` tab on the top of any directory page just like this:  \n",
    "![Nbextensions](images/Nbextensions.png)\n",
    "\n",
    "***Note:*** \n",
    "1. Do NOT turn the compatibility check(shown at the first line) off **or your notebook may be broken!**\n",
    "2. Enable the options shown above.\n",
    "\n",
    "------"
   ]
  },
  {
   "cell_type": "markdown",
   "metadata": {
    "solution2": "hidden",
    "solution2_first": true
   },
   "source": [
    "\n",
    "\n",
    "## Supported Kernels and Packages\n",
    "1. Kernels.\n",
    "For now, we just support `Python3(Python 3.5.2)` kernel, the default kernel of Jupyter Notebook. We may install some other kernels if they are suggested many times and you can contact administrator(s) for suggesting one if you really need it.  \n",
    "You can create a notebook file(default file name: `Untitled.ipynb`) through the `New` button in the upper right of any directory page and you can see which kernel is running at the upper right place in a open notebook file. \n",
    "2. Packages\n",
    "To show the supported packages, just click show solution and use `Shift` + `Enter` to run the cell."
   ]
  },
  {
   "cell_type": "code",
   "execution_count": null,
   "metadata": {
    "ExecuteTime": {
     "end_time": "2017-12-18T12:27:52.663470Z",
     "start_time": "2017-12-18T12:27:52.538663Z"
    },
    "deletable": false,
    "editable": false,
    "solution2": "hidden"
   },
   "outputs": [],
   "source": [
    "! pip3 list --format=columns"
   ]
  },
  {
   "cell_type": "markdown",
   "metadata": {},
   "source": [
    "## Most Used Commands\n",
    "| COMMAND    | DESCRIPTION    | EXAMPLE    |\n",
    "| :------------- | :------------- | :------------- |\n",
    "|`cd`    |**C**hange **D**irectory    |`cd directory`|   \n",
    "|`mkdir`    |**M**a**k**e **Dir**ectories    |`mkdir your_directory`|\n",
    "|`cp`    |**C**o**P**y dirs/files   |`cp original_file copied_file`| \n",
    "|`mv`    |**M**o**v**e dirs/files   |`mv original_file moved_file`|\n",
    "|`rm`    |**R**emo**v**e dirs/files    |`rm directory/file`|\n",
    "|`ls`    |**L**i**s**t directories    |`ls -l ~`    |  \n",
    "|`ll`    |Short for `ls -l`    |`ll`    |  \n",
    "|`clear`    |Clear the terminal    |`clear`    |  \n",
    "|`git init`    |**Git Init**ialization, initialize a Repository    |`git init`|\n",
    "|`git clone`    |**Git clone**, clone a repository   |`git clone git@github.com:Dawn-Team/learning-materials.git`    |  \n",
    "|`git add`    |Add files **to** your git stage **from** your working directory    |`git add my_file`    |    \n",
    "|`git commit`    |Commit a checkpoint **to** your git chain **from** your git stage   |`git commit -m \"Description\"`    |  \n",
    "|`git pull`    |Pull change(s) **from** remote repository    |`git pull`    |  \n",
    "|`git push`    |Push change(s) **to** remote repository   |`git push`    |  \n",
    "\n",
    "\n",
    "## Using github on the Platform\n",
    "Due to the technical reasons that project Jupyter not solved yet, we can not use VCS(Version Control System) as we usually do in some famous IDEs(Integrated Development Environments). But fortunately, there is a good solution we can largely adapt -- the original git bash.  \n",
    "\n",
    "You already knew how to use terminals on the platform, and all you need to do is using the git bash commands in your terminal. To help you finishing the job, here a tutorial is available: Git Tutorial\\cite{Git_Tutorial_by_Michael_Liao}  \n",
    "And if you want to use your Github account in our platform directly(assume that you have understandings to git in theory and some practice), you can follow steps [here](https://help.github.com/articles/connecting-to-github-with-ssh/) and configure your own environments quickly.\n"
   ]
  },
  {
   "cell_type": "markdown",
   "metadata": {},
   "source": [
    "# Every Journey Begins with the First Step.\n",
    "## Mathematical basics, programming basics and Terminologies. \n",
    "        1. Mathematical basics, programming basics and Terminologies.   Matrix, Python, Numpy, HDF5 and h5py, Data Structures and etc.\n",
    "\n",
    "## Machine Learning Basics.\n",
    "        2. Machine Learning Basics.    KNN, SVM, SIGMOID, RELU, SOFTMAX. DATASETS BASICS and etc.\n",
    "\n",
    "## Neural Networks Basics. \n",
    "        3. Neural Networks Basics.    Neurons, Layers, Computation Graphs, Gradient Descent Methods and etc.\n",
    "\n",
    "## Structuring Machine Learning Programs/Projects.\n",
    "        4. Structuring Machine Learning Programs/Projects    Hyper-Parameters,Dataset Augmentation, Optimization, Hyper-Parameters tuning Methodology, Transfer Learning, Pre-training and etc.\n",
    "\n",
    "## Deep Learning/Computer Vision.\n",
    "        5. Deep Learning.\n",
    "\n",
    "## Step Into Production Practices.\n",
    "        6. Get Into Production Practices.\n",
    "\n",
    "## Starting-up Researches.\n",
    "        7. Starting-up Researches.\n",
    "\n",
    "\n",
    "\n"
   ]
  },
  {
   "cell_type": "markdown",
   "metadata": {
    "ExecuteTime": {
     "end_time": "2017-12-12T05:46:41.202332Z",
     "start_time": "2017-12-12T05:46:41.194460Z"
    }
   },
   "source": [
    "# Acknowledgments & Copyrights\n",
    "<br />\n",
    "<br />\n",
    "<a rel=\"license\" style=\"text-decoration:none\" href=\"http://creativecommons.org/licenses/by-nc-sa/4.0/\">\n",
    "    <div style=\"margin-top:0.5em;margin-bottom:1em;\">\n",
    "        <img alt=\"Creative Comments\" style=\"display:inline;\"  src=\"https://mirrors.creativecommons.org/presskit/icons/cc.svg\"/>\n",
    "        <img alt=\"Attribution\" style=\"display:inline;margin-top:0;\"  src=\"https://mirrors.creativecommons.org/presskit/icons/by.svg\"/>\n",
    "        <img alt=\"Non-Commercial\" style=\"display:inline;margin-top:0;\"  src=\"https://mirrors.creativecommons.org/presskit/icons/nc.svg\"/>\n",
    "        <img alt=\"Non-Commercial\" style=\"display:inline;margin-top:0;\"  src=\"https://mirrors.creativecommons.org/presskit/icons/nc-jp.svg\"/>\n",
    "        <img alt=\"Share Alike\" style=\"display:inline;margin-top:0;\"  src=\"https://mirrors.creativecommons.org/presskit/icons/sa.svg\"/>\n",
    "     </div>\n",
    "</a>\n",
    "<br />\n",
    "This work is licensed under a <a rel=\"license\" href=\"http://creativecommons.org/licenses/by-nc-sa/4.0/\">Creative Commons Attribution-NonCommercial-ShareAlike 4.0 International License</a>.\n",
    "\n",
    "CREATED BY [ArvinSiChuan](mailto:arvinsc@foxmail.com?subject=LearningMaterialsOfDawnTeam), 09-DEC-2017.  \n",
    "Updated at 18-Dec-2017, VERSION 0.4.  \n",
    "[DAWN-TEAM](https://github.com/Dawn-Team/) © 2017\n",
    "\n",
    "\n"
   ]
  },
  {
   "cell_type": "markdown",
   "metadata": {},
   "source": [
    "Intentionally left for future using.  \n",
    "<!--\n",
    "[$^{[machine\\_learning\\_wiki]}$](#machine_learning_wiki)  \n",
    "<span id=\"\">\n",
    "[] \n",
    "</span>\n",
    "-->\n"
   ]
  },
  {
   "cell_type": "markdown",
   "metadata": {},
   "source": [
    "# References\n",
    "\n",
    "[<a id=\"cit-Machine-learning-wiki\" href=\"#call-Machine-learning-wiki\">1</a>] Wikipedia Community, ``_Machine Learning_'',  2017.  [online](https://en.wikipedia.org/wiki/Machine_learning)\n",
    "\n",
    "[<a id=\"cit-Jupyter_Notebook\" href=\"#call-Jupyter_Notebook\">2</a>] Wikipedia Community, ``_Jupyter Notebook(IPython) wiki_'',  2017.  [online](https://en.wikipedia.org/wiki/IPython)\n",
    "\n",
    "[<a id=\"cit-Git_Tutorial_by_Michael_Liao\" href=\"#call-Git_Tutorial_by_Michael_Liao\">3</a>] Michael Liao, ``_Git Tutorial by Michael Liao_'',  2013.  [online](https://www.liaoxuefeng.com/wiki/0013739516305929606dd18361248578c67b8067c8c017b000)\n",
    "\n"
   ]
  },
  {
   "cell_type": "code",
   "execution_count": null,
   "metadata": {
    "deletable": false,
    "editable": false
   },
   "outputs": [],
   "source": [
    "print (\"THE END OF THE DOCUMENT\")"
   ]
  }
 ],
 "metadata": {
  "author": "Hello World",
  "kernelspec": {
   "display_name": "Python 3",
   "language": "python",
   "name": "python3"
  },
  "language_info": {
   "codemirror_mode": {
    "name": "ipython",
    "version": 3
   },
   "file_extension": ".py",
   "mimetype": "text/x-python",
   "name": "python",
   "nbconvert_exporter": "python",
   "pygments_lexer": "ipython3",
   "version": "3.5.2"
  },
  "latex_envs": {
   "LaTeX_envs_menu_present": true,
   "autocomplete": true,
   "bibliofile": "cite.bib",
   "cite_by": "number",
   "current_citInitial": 1,
   "eqLabelWithNumbers": true,
   "eqNumInitial": 1,
   "hotkeys": {
    "equation": "Ctrl-E",
    "itemize": "Ctrl-I"
   },
   "labels_anchors": true,
   "latex_user_defs": false,
   "report_style_numbering": false,
   "user_envs_cfg": false
  },
  "toc": {
   "nav_menu": {
    "height": "255px",
    "width": "520px"
   },
   "number_sections": true,
   "sideBar": true,
   "skip_h1_title": false,
   "toc_cell": false,
   "toc_position": {
    "height": "696px",
    "left": "0px",
    "right": "984.961px",
    "top": "111px",
    "width": "269px"
   },
   "toc_section_display": "block",
   "toc_window_display": true
  }
 },
 "nbformat": 4,
 "nbformat_minor": 2
}
