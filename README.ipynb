{
 "cells": [
  {
   "cell_type": "markdown",
   "metadata": {},
   "source": [
    "# Learning Materials README v0.0\n",
    "\n",
    "<br />\n",
    "<br />\n",
    "<br />\n",
    "<br />\n",
    "<br />\n",
    "<br />\n",
    "![DAWN-TEAM](https://avatars0.githubusercontent.com/u/31675657?s=300&v=4)\n",
    "<p style=\"margin: 0.5em auto; text-align: center;font-size:large;font-weight: bold;\">KNOWLEDGES MAKE PRACTICES<!-- POSSIBLE  -->,</p> \n",
    "<p style=\"margin: 0 auto; text-align: center;font-size:large;font-weight: bold;\">PRACTICES MAKE KNOWLEDGES<!-- FORWARD  -->.</p>\n",
    "<br />\n",
    "<br />\n",
    "<br />\n",
    "<br />\n",
    "<br />\n",
    "<br />\n",
    "<br />\n",
    "<br />\n",
    "\n",
    "--------"
   ]
  },
  {
   "cell_type": "markdown",
   "metadata": {},
   "source": [
    "## 0. Introduction\n",
    " \n",
    "According to the Wikipedia website[$^{[machine\\_learning\\_wiki]}$](#machine_learning_wiki), Machine learning is a field of computer science that gives computers the ability to learn without being explicitly programmed.\n",
    "\n",
    "\n",
    "\n",
    "\n",
    "\n",
    "\n",
    "\n",
    "--------"
   ]
  },
  {
   "cell_type": "markdown",
   "metadata": {},
   "source": [
    "\n",
    "## 1. A Brief Introduction to Jupyter Notebook\n",
    "--------\n",
    "## 2. File Organization Guidelines\n",
    "## 3. Every Journey Begins with the First Step.\n",
    "### 3.1 Mathmatical basics, programming basics and Termologies. \n",
    "        1. Mathmatical basics, programming basics and Termologies.   Matrix, Python, Numpy, HDF5 and h5py, Data Structures and etc.\n",
    "\n",
    "### 3.2 Machine Learning Basics.\n",
    "        2. Machine Learning Basics.    KNN, SVM, SIGMOID, RELU, SOFTMAX. DATASETS BASICS and etc.\n",
    "\n",
    "### 3.3 Nueral Networks Basics. \n",
    "        3. Nueral Networks Basics.    Neurons, Layers, Computation Graphs, Gradient Descent Methods and etc.\n",
    "\n",
    "### 3.4 Structuring Machine Learning Programs/Projects.\n",
    "        4. Structuring Machine Learning Programs/Projects    Hyper-Parameters,Dataset Augmentation, Optimization, Hyper-Parameters tuning Methodology, Transfer Learning, Pre-training and etc.\n",
    "\n",
    "### 3.5 Deep Learning/Computer Vision.\n",
    "        5. Deep Learning.\n",
    "\n",
    "### 3.6 Step Into Production Practices.\n",
    "        6. Get Into Production Practices.\n",
    "\n",
    "### 3.7 Starting-up Researches.\n",
    "        7. Starting-up Researches.\n",
    "\n",
    "## 4. References\n",
    "[^Deep Learning Book]: Deep_Learning\n",
    "[1] Goodfellow-et-al-2016, Deep Learning, Ian Goodfellow and Yoshua Bengio and Aaron Courville, MIT Press, http://www.deeplearningbook.org, 2016.  \n",
    "<span id=\"machine_learning_wiki\" >\n",
    "[2] Wilipedia, https://en.wikipedia.org/wiki/Machine_learning.  \n",
    "</span>\n",
    "<span id=\"deeplearning.ai_wiki\">\n",
    "[3] Wiki of Deeplearning.ai, http://wiki.deeplearning.ai/.\n",
    "</span>\n",
    "\n",
    "<span id=\"\">\n",
    "[] \n",
    "</span>\n",
    "\n",
    "\n",
    "<span id=\"\">\n",
    "[] \n",
    "</span>\n",
    "<span id=\"\">\n",
    "[] \n",
    "</span>"
   ]
  },
  {
   "cell_type": "markdown",
   "metadata": {},
   "source": [
    "## 5. Acknowledgments & Copyrights\n",
    "<br />\n",
    "<br />\n",
    "<a rel=\"license\" style=\"text-decoration:none\" href=\"http://creativecommons.org/licenses/by-nc-sa/4.0/\">\n",
    "    <div style=\"margin-top:0.5em;margin-bottom:1em;\">\n",
    "        <img alt=\"Creative Comments\" style=\"display:inline;\"  src=\"https://mirrors.creativecommons.org/presskit/icons/cc.svg\"/>\n",
    "        <img alt=\"Attribution\" style=\"display:inline;margin-top:0;\"  src=\"https://mirrors.creativecommons.org/presskit/icons/by.svg\"/>\n",
    "        <img alt=\"Non-Commercial\" style=\"display:inline;margin-top:0;\"  src=\"https://mirrors.creativecommons.org/presskit/icons/nc.svg\"/>\n",
    "        <img alt=\"Non-Commercial\" style=\"display:inline;margin-top:0;\"  src=\"https://mirrors.creativecommons.org/presskit/icons/nc-jp.svg\"/>\n",
    "        <img alt=\"Share Alike\" style=\"display:inline;margin-top:0;\"  src=\"https://mirrors.creativecommons.org/presskit/icons/sa.svg\"/>\n",
    "     </div>\n",
    "</a>\n",
    "<br />\n",
    "This work is licensed under a <a rel=\"license\" href=\"http://creativecommons.org/licenses/by-nc-sa/4.0/\">Creative Commons Attribution-NonCommercial-ShareAlike 4.0 International License</a>.\n",
    "\n",
    "CREATED BY [ArvinSiChuan](mailto:arvinsc@foxmail.com?subject=LearningMaterialsOfDawnTeam), 09-DEC-2017, VERSION 0.0.  \n",
    "[DAWN-TEAM](https://github.com/Dawn-Team/) © 2017\n",
    "\n",
    "\n"
   ]
  },
  {
   "cell_type": "markdown",
   "metadata": {},
   "source": [
    "Intentionally left for comming using.  \n",
    "<!--\n",
    "[$^{[machine\\_learning\\_wiki]}$](#machine_learning_wiki)  \n",
    "<span id=\"\">\n",
    "[] \n",
    "</span>\n",
    "-->\n"
   ]
  },
  {
   "cell_type": "code",
   "execution_count": null,
   "metadata": {},
   "outputs": [],
   "source": []
  }
 ],
 "metadata": {
  "kernelspec": {
   "display_name": "Python 3",
   "language": "python",
   "name": "python3"
  },
  "language_info": {
   "codemirror_mode": {
    "name": "ipython",
    "version": 3
   },
   "file_extension": ".py",
   "mimetype": "text/x-python",
   "name": "python",
   "nbconvert_exporter": "python",
   "pygments_lexer": "ipython3",
   "version": "3.5.2"
  }
 },
 "nbformat": 4,
 "nbformat_minor": 2
}
